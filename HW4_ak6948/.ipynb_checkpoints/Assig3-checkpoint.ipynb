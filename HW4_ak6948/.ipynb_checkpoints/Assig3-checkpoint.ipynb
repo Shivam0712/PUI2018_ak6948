{
 "cells": [
  {
   "cell_type": "code",
   "execution_count": 1,
   "metadata": {},
   "outputs": [
    {
     "name": "stdout",
     "output_type": "stream",
     "text": [
      "z =  2.55639718617\n",
      "The NULL hypothesis is rejected.\n",
      "The commute time is shorter with the new bus route than it was before. Tnew < Told\n"
     ]
    }
   ],
   "source": [
    "# NULL Hypothesis: the commute time with the new bus route is on average the same or longer as it was before:  \n",
    "# Hypothesis: the commute time with the new bus route is shorterthan it was before: \n",
    "# H0: Tnew >= Told\n",
    "# H1: Tnew < Told\n",
    "#significance level is 0.05"
   ]
  },
  {
   "cell_type": "code",
   "execution_count": 2,
   "metadata": {},
   "outputs": [
    {
     "name": "stdout",
     "output_type": "stream",
     "text": [
      "z =  2.55639718617\n",
      "The NULL hypothesis is rejected.\n",
      "The commute time is shorter with the new bus route than it was before. Tnew < Told\n"
     ]
    }
   ],
   "source": [
    "import numpy as np\n",
    "try:\n",
    "    import urllib2 as urllib\n",
    "except ImportError:\n",
    "    import urllib.request as urllib\n",
    "url = \"https://raw.githubusercontent.com/fedhere/PUI2018_fb55/master/Lab4_fb55/times.txt\"\n",
    "response = urllib.urlopen(url)\n",
    "data = response.read().decode(\"utf-8\")\n",
    "data1 = data.split('\\n')\n",
    "dataf = list(map(float, data1[0:-1]))\n",
    "mean_sample = np.mean(dataf)\n",
    "mean_population = 36\n",
    "std_population = 6\n",
    "N = len(dataf)\n",
    "alpha = 2\n",
    "H0 = 'The commute time is on average the same or longer with the new bus route as it was before. Tnew >= Told'\n",
    "H1 = 'The commute time is shorter with the new bus route than it was before. Tnew < Told'\n",
    "z = (mean_population-mean_sample)/(std_population/np.sqrt(N))\n",
    "print('z = ', z)\n",
    "if z < alpha:\n",
    "    #the null hypothesis is not rejected\n",
    "    print('The NULL hypothesis is not rejected.')\n",
    "    print(H0)\n",
    "else:\n",
    "    print('The NULL hypothesis is rejected.')\n",
    "    print(H1)"
   ]
  },
  {
   "cell_type": "code",
   "execution_count": null,
   "metadata": {},
   "outputs": [],
   "source": []
  }
 ],
 "metadata": {
  "kernelspec": {
   "display_name": "PUI2016_Python3",
   "language": "python",
   "name": "pui2016_python3"
  },
  "language_info": {
   "codemirror_mode": {
    "name": "ipython",
    "version": 3
   },
   "file_extension": ".py",
   "mimetype": "text/x-python",
   "name": "python",
   "nbconvert_exporter": "python",
   "pygments_lexer": "ipython3",
   "version": "3.5.4"
  }
 },
 "nbformat": 4,
 "nbformat_minor": 2
}
