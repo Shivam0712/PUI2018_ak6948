{
 "cells": [
  {
   "cell_type": "code",
   "execution_count": 1,
   "metadata": {},
   "outputs": [
    {
     "name": "stdout",
     "output_type": "stream",
     "text": [
      "Populating the interactive namespace from numpy and matplotlib\n"
     ]
    }
   ],
   "source": [
    "import os\n",
    "import sys\n",
    "import numpy as np\n",
    "import pylab as pl\n",
    "\n",
    "%pylab inline"
   ]
  },
  {
   "cell_type": "code",
   "execution_count": 2,
   "metadata": {},
   "outputs": [],
   "source": [
    "# z-test inputs for row 2\n",
    "alpha = 0.05\n",
    "n0 = 409\n",
    "n1 = 564\n",
    "ntot = 973\n",
    "p0_2 = 3.5 * 0.01\n",
    "p1_2 = 70.1 * 0.01"
   ]
  },
  {
   "cell_type": "code",
   "execution_count": 3,
   "metadata": {},
   "outputs": [
    {
     "name": "stdout",
     "output_type": "stream",
     "text": [
      "sp=  0.4210472764645426 \n",
      "z=  20.7697865408 \n",
      "p_2y=  0.0016000000000000458 \n",
      "\n",
      "is the p value 0.00 smaller than the critical value 0.05?\n",
      "YES!\n",
      "the Null hypothesis is rejected\n"
     ]
    }
   ],
   "source": [
    "#z-test for row 2\n",
    "sp = (p0_2*n0+p1_2*n1)/(n0+n1)\n",
    "z = (p1_2-p0_2)/np.sqrt(sp*(1-sp)*(1/n1+1/n0))\n",
    "p_2y = 1-0.9984\n",
    "print(\"sp= \", sp,\"\\nz= \",z, \"\\np_2y= \",  p_2y, \"\\n\")\n",
    "\n",
    "def report_result(p,a):\n",
    "    print ('is the p value ' + \n",
    "           '{0:.2f} smaller than the critical value {1:.2f}?'.format(p,a))\n",
    "    if p < a:\n",
    "        print (\"YES!\")\n",
    "    else: \n",
    "        print (\"NO!\")\n",
    "    \n",
    "    print ('the Null hypothesis is {}'.format(\\\n",
    "                            'rejected' if p < a  else 'not rejected') )\n",
    "\n",
    "    \n",
    "report_result(p_2y, alpha)"
   ]
  },
  {
   "cell_type": "markdown",
   "metadata": {},
   "source": [
    "#The NULL Hypothesis for row 10:\n",
    "#The percentage of convicted felons convitecd with a felony who would recidivate with 1-3 years after participating in the program is the same or lower than those who did not participate in the program\n",
    "#H0: P1(with program) =< P0(without program)"
   ]
  },
  {
   "cell_type": "code",
   "execution_count": 4,
   "metadata": {},
   "outputs": [],
   "source": [
    "# z-test inputs for row 10\n",
    "alpha = 0.05\n",
    "n0 = 409\n",
    "n1 = 568\n",
    "ntot = 977\n",
    "p0_3 = 11.7 * 0.01\n",
    "p1_3 = 10 * 0.01"
   ]
  },
  {
   "cell_type": "code",
   "execution_count": 6,
   "metadata": {},
   "outputs": [
    {
     "name": "stdout",
     "output_type": "stream",
     "text": [
      "sp=  0.10711668372569089 \n",
      "z=   0.84764020522 \n",
      "p_2y=  0.2005 \n",
      "\n",
      "is the p value 0.20 smaller than the critical value 0.05?\n",
      "NO!\n",
      "the Null hypothesis is not rejected\n"
     ]
    }
   ],
   "source": [
    "#z-test for row 10\n",
    "sp = (p0_3*n0+p1_3*n1)/(n0+n1)\n",
    "z = np.abs((p1_3-p0_3)/np.sqrt(sp*(1-sp)*(1/n1+1/n0)))\n",
    "p_3y = 1-0.7995\n",
    "print(\"sp= \", sp,\"\\nz=  \",z, \"\\np_2y= \",  p_3y, \"\\n\")\n",
    "\n",
    "def report_result(p,a):\n",
    "    print ('is the p value ' + \n",
    "           '{0:.2f} smaller than the critical value {1:.2f}?'.format(p,a))\n",
    "    if p < a:\n",
    "        print (\"YES!\")\n",
    "    else: \n",
    "        print (\"NO!\")\n",
    "    \n",
    "    print ('the Null hypothesis is {}'.format(\\\n",
    "                            'rejected' if p < a  else 'not rejected') )\n",
    "\n",
    "    \n",
    "report_result(p_3y, alpha)"
   ]
  },
  {
   "cell_type": "code",
   "execution_count": 7,
   "metadata": {},
   "outputs": [],
   "source": [
    "def evalChisq(values):\n",
    "    values = np.array(values)\n",
    "    E = np.empty_like(values)\n",
    "    for j in range(len(values[0])):\n",
    "        for i in range(2):\n",
    "            \n",
    "            E[i][j] = ((values[i,:].sum() * values[:,j].sum()) / \n",
    "                        (values).sum())\n",
    "    return ((values - E)**2 / E).sum()\n",
    "\n",
    "\n",
    "def report_result_chi(p,a):\n",
    "    print ('is the x-squared value ' + \n",
    "           '{0:.2f} bigger than the critical value {1:.2f}?'.format(p,a))\n",
    "    if p > a:\n",
    "        print (\"YES!\")\n",
    "    else: \n",
    "        print (\"NO!\")\n",
    "    \n",
    "    print ('the Null hypothesis is {}'.format(\\\n",
    "                            'rejected' if p > a  else 'not rejected') )\n"
   ]
  },
  {
   "cell_type": "code",
   "execution_count": 8,
   "metadata": {},
   "outputs": [
    {
     "name": "stdout",
     "output_type": "stream",
     "text": [
      "x-squared=  436.223462575\n",
      "is the x-squared value 436.22 bigger than the critical value 3.84?\n",
      "YES!\n",
      "the Null hypothesis is rejected\n"
     ]
    }
   ],
   "source": [
    "# x-squared test for row 2\n",
    "sample_values = np.array([[0.701 * 564, 0.299 * 564], [0.0305 * 409, 0.965 * 409]])\n",
    "chisq_2y = evalChisq(sample_values)\n",
    "x2 = 3.84 #for alpha = 0.05\n",
    "print (\"x-squared= \", chisq_2y)\n",
    "report_result_chi(chisq_2y, x2)"
   ]
  },
  {
   "cell_type": "code",
   "execution_count": 10,
   "metadata": {},
   "outputs": [
    {
     "name": "stdout",
     "output_type": "stream",
     "text": [
      "x-squared=  0.718493917505\n",
      "is the x-squared value 0.72 bigger than the critical value 3.84?\n",
      "NO!\n",
      "the Null hypothesis is not rejected\n"
     ]
    }
   ],
   "source": [
    "# x-squared test for row 10\n",
    "sample_values = np.array([[0.1 * 568, 0.9 * 568], [0.117 * 409, 0.883 * 409]])\n",
    "chisq_3y = evalChisq(sample_values)\n",
    "x2 = 3.84 #for alpha = 0.05\n",
    "print (\"x-squared= \", chisq_3y)\n",
    "report_result_chi(chisq_3y, x2)"
   ]
  },
  {
   "cell_type": "code",
   "execution_count": null,
   "metadata": {},
   "outputs": [],
   "source": []
  }
 ],
 "metadata": {
  "kernelspec": {
   "display_name": "PUI2016_Python3",
   "language": "python",
   "name": "pui2016_python3"
  },
  "language_info": {
   "codemirror_mode": {
    "name": "ipython",
    "version": 3
   },
   "file_extension": ".py",
   "mimetype": "text/x-python",
   "name": "python",
   "nbconvert_exporter": "python",
   "pygments_lexer": "ipython3",
   "version": "3.5.4"
  }
 },
 "nbformat": 4,
 "nbformat_minor": 2
}
