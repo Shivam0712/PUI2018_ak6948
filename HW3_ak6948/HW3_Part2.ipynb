{
 "cells": [
  {
   "cell_type": "code",
   "execution_count": 37,
   "metadata": {},
   "outputs": [
    {
     "name": "stdout",
     "output_type": "stream",
     "text": [
      "  % Total    % Received % Xferd  Average Speed   Time    Time     Time  Current\n",
      "                                 Dload  Upload   Total   Spent    Left  Speed\n",
      "100   114    0   114    0     0    521      0 --:--:-- --:--:-- --:--:--   520\n",
      "PUIdata /nfshome/ak6948/PUIdata\n",
      "PUIdata /nfshome/ak6948/PUIdata\n",
      "InmateStabbing.csv  MRate.csv\n",
      "Populating the interactive namespace from numpy and matplotlib\n"
     ]
    },
    {
     "data": {
      "text/plain": [
       "<matplotlib.axes._subplots.AxesSubplot at 0x7fe9f7cf3208>"
      ]
     },
     "execution_count": 37,
     "metadata": {},
     "output_type": "execute_result"
    },
    {
     "data": {
      "image/png": "[encoded data removed]",
      "text/plain": [
       "<matplotlib.figure.Figure at 0x7fe9f7c53ac8>"
      ]
     },
     "metadata": {},
     "output_type": "display_data"
    }
   ],
   "source": [
    "!curl https://data.cityofnewyork.us/api/views/hve5-8z68/rows.csv?accessType=DOWNLOAD > InmateStabbing.csv\n",
    "import os\n",
    "print(\"PUIdata\", os.getenv(\"PUIDATA\"))\n",
    "os.environ[\"PUIDATA\"] = \"%s/PUIdata\"%os.getenv(\"HOME\")\n",
    "print(\"PUIdata\", os.getenv(\"PUIDATA\"))\n",
    "!mv InmateStabbing.csv $PUIDATA\n",
    "!ls $PUIDATA\n",
    "import pandas as pd\n",
    "doc = pd.read_csv(\"%s/InmateStabbing.csv\"%os.getenv(\"PUIDATA\"))\n",
    "doc.head(10)\n",
    "%pylab inline\n",
    "doc.plot(x=\"Fiscal Year\", y=\"Number of Incidents\", kind= 'scatter')\n"
   ]
  },
  {
   "cell_type": "code",
   "execution_count": 36,
   "metadata": {},
   "outputs": [
    {
     "name": "stdout",
     "output_type": "stream",
     "text": [
      "  % Total    % Received % Xferd  Average Speed   Time    Time     Time  Current\n",
      "                                 Dload  Upload   Total   Spent    Left  Speed\n",
      "100  2501    0  2501    0     0  17286      0 --:--:-- --:--:-- --:--:-- 17368\n",
      "PUIdata /nfshome/ak6948/PUIdata\n",
      "PUIdata /nfshome/ak6948/PUIdata\n",
      "InmateStabbing.csv  MRate.csv\n",
      "Populating the interactive namespace from numpy and matplotlib\n"
     ]
    },
    {
     "data": {
      "text/plain": [
       "<matplotlib.axes._subplots.AxesSubplot at 0x7fe9f7cb9ac8>"
      ]
     },
     "execution_count": 36,
     "metadata": {},
     "output_type": "execute_result"
    },
    {
     "data": {
      "image/png": "[encoded data removed]",
      "text/plain": [
       "<matplotlib.figure.Figure at 0x7fe9f7cfc2e8>"
      ]
     },
     "metadata": {},
     "output_type": "display_data"
    }
   ],
   "source": [
    "!curl https://data.cityofnewyork.us/api/views/fcau-jc6k/rows.csv?accessType=DOWNLOAD > MRate.csv\n",
    "import os\n",
    "print(\"PUIdata\", os.getenv(\"PUIDATA\"))\n",
    "os.environ[\"PUIDATA\"] = \"%s/PUIdata\"%os.getenv(\"HOME\")\n",
    "print(\"PUIdata\", os.getenv(\"PUIDATA\"))\n",
    "!mv MRate.csv $PUIDATA\n",
    "!ls $PUIDATA\n",
    "import pandas as pd\n",
    "morRate = pd.read_csv(\"%s/MRate.csv\"%os.getenv(\"PUIDATA\"))\n",
    "morRate.head(10)\n",
    "morRate_2c = morRate[['Infant Deaths', 'Infant Mortality Rate']]\n",
    "%pylab inline\n",
    "morRate_2c.plot(x=\"Infant Deaths\", y=\"Infant Mortality Rate\", kind= 'scatter')"
   ]
  },
  {
   "cell_type": "code",
   "execution_count": null,
   "metadata": {},
   "outputs": [],
   "source": []
  }
 ],
 "metadata": {},
 "nbformat": 4,
 "nbformat_minor": 2
}
